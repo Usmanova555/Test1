{
  "nbformat": 4,
  "nbformat_minor": 0,
  "metadata": {
    "colab": {
      "provenance": []
    },
    "kernelspec": {
      "name": "python3",
      "display_name": "Python 3"
    },
    "language_info": {
      "name": "python"
    }
  },
  "cells": [
    {
      "cell_type": "markdown",
      "source": [
        "## Код для предварительного анализа данных датасета"
      ],
      "metadata": {
        "id": "cDTiOCy0FDwG"
      }
    },
    {
      "cell_type": "code",
      "source": [
        "import numpy as np # linear algebra\n",
        "import pandas as pd # data processing, CSV file I/O (e.g. pd.read_csv)\n",
        "import numpy as np\n",
        "import pandas as pd\n",
        "\n",
        "import plotly.express as px\n",
        "import plotly.graph_objs as go\n",
        "\n",
        "from datetime import date\n",
        "from datetime import datetime, time"
      ],
      "metadata": {
        "id": "Ne6zXlUx_ey6"
      },
      "execution_count": 19,
      "outputs": []
    },
    {
      "cell_type": "code",
      "source": [
        "data = pd.read_csv('Table 1.csv')\n",
        "\n",
        "data.head(5)"
      ],
      "metadata": {
        "colab": {
          "base_uri": "https://localhost:8080/",
          "height": 250
        },
        "id": "HUBK11AH_lAT",
        "outputId": "241d7876-acf5-4490-a561-98f865e8dc6c"
      },
      "execution_count": 20,
      "outputs": [
        {
          "output_type": "execute_result",
          "data": {
            "text/plain": [
              "                event_time      order_id    product_id   category_id  \\\n",
              "0  2020-01-09 04:49:13 UTC  2.348768e+18  1.515966e+18  2.268105e+18   \n",
              "1  2020-01-09 13:55:37 UTC  2.348768e+18  1.515966e+18  2.268105e+18   \n",
              "2  2020-01-09 12:44:51 UTC  2.348768e+18  1.515966e+18  2.268105e+18   \n",
              "3  2020-01-08 08:21:30 UTC  2.348768e+18  2.273948e+18  2.268105e+18   \n",
              "4  2020-01-08 08:21:30 UTC  2.348768e+18  1.515966e+18           NaN   \n",
              "\n",
              "                         category_code    brand   price  user_id  \n",
              "0  appliances.environment.water_heater    midea   78.68      NaN  \n",
              "1               electronics.smartphone     oppo  231.23      NaN  \n",
              "2         appliances.kitchen.microwave  samsung  120.35      NaN  \n",
              "3  appliances.environment.water_heater  thermex   92.57      NaN  \n",
              "4                                57.87      NaN     NaN      NaN  "
            ],
            "text/html": [
              "\n",
              "  <div id=\"df-55327dff-0166-4f35-996e-6e0795766c97\">\n",
              "    <div class=\"colab-df-container\">\n",
              "      <div>\n",
              "<style scoped>\n",
              "    .dataframe tbody tr th:only-of-type {\n",
              "        vertical-align: middle;\n",
              "    }\n",
              "\n",
              "    .dataframe tbody tr th {\n",
              "        vertical-align: top;\n",
              "    }\n",
              "\n",
              "    .dataframe thead th {\n",
              "        text-align: right;\n",
              "    }\n",
              "</style>\n",
              "<table border=\"1\" class=\"dataframe\">\n",
              "  <thead>\n",
              "    <tr style=\"text-align: right;\">\n",
              "      <th></th>\n",
              "      <th>event_time</th>\n",
              "      <th>order_id</th>\n",
              "      <th>product_id</th>\n",
              "      <th>category_id</th>\n",
              "      <th>category_code</th>\n",
              "      <th>brand</th>\n",
              "      <th>price</th>\n",
              "      <th>user_id</th>\n",
              "    </tr>\n",
              "  </thead>\n",
              "  <tbody>\n",
              "    <tr>\n",
              "      <th>0</th>\n",
              "      <td>2020-01-09 04:49:13 UTC</td>\n",
              "      <td>2.348768e+18</td>\n",
              "      <td>1.515966e+18</td>\n",
              "      <td>2.268105e+18</td>\n",
              "      <td>appliances.environment.water_heater</td>\n",
              "      <td>midea</td>\n",
              "      <td>78.68</td>\n",
              "      <td>NaN</td>\n",
              "    </tr>\n",
              "    <tr>\n",
              "      <th>1</th>\n",
              "      <td>2020-01-09 13:55:37 UTC</td>\n",
              "      <td>2.348768e+18</td>\n",
              "      <td>1.515966e+18</td>\n",
              "      <td>2.268105e+18</td>\n",
              "      <td>electronics.smartphone</td>\n",
              "      <td>oppo</td>\n",
              "      <td>231.23</td>\n",
              "      <td>NaN</td>\n",
              "    </tr>\n",
              "    <tr>\n",
              "      <th>2</th>\n",
              "      <td>2020-01-09 12:44:51 UTC</td>\n",
              "      <td>2.348768e+18</td>\n",
              "      <td>1.515966e+18</td>\n",
              "      <td>2.268105e+18</td>\n",
              "      <td>appliances.kitchen.microwave</td>\n",
              "      <td>samsung</td>\n",
              "      <td>120.35</td>\n",
              "      <td>NaN</td>\n",
              "    </tr>\n",
              "    <tr>\n",
              "      <th>3</th>\n",
              "      <td>2020-01-08 08:21:30 UTC</td>\n",
              "      <td>2.348768e+18</td>\n",
              "      <td>2.273948e+18</td>\n",
              "      <td>2.268105e+18</td>\n",
              "      <td>appliances.environment.water_heater</td>\n",
              "      <td>thermex</td>\n",
              "      <td>92.57</td>\n",
              "      <td>NaN</td>\n",
              "    </tr>\n",
              "    <tr>\n",
              "      <th>4</th>\n",
              "      <td>2020-01-08 08:21:30 UTC</td>\n",
              "      <td>2.348768e+18</td>\n",
              "      <td>1.515966e+18</td>\n",
              "      <td>NaN</td>\n",
              "      <td>57.87</td>\n",
              "      <td>NaN</td>\n",
              "      <td>NaN</td>\n",
              "      <td>NaN</td>\n",
              "    </tr>\n",
              "  </tbody>\n",
              "</table>\n",
              "</div>\n",
              "      <button class=\"colab-df-convert\" onclick=\"convertToInteractive('df-55327dff-0166-4f35-996e-6e0795766c97')\"\n",
              "              title=\"Convert this dataframe to an interactive table.\"\n",
              "              style=\"display:none;\">\n",
              "        \n",
              "  <svg xmlns=\"http://www.w3.org/2000/svg\" height=\"24px\"viewBox=\"0 0 24 24\"\n",
              "       width=\"24px\">\n",
              "    <path d=\"M0 0h24v24H0V0z\" fill=\"none\"/>\n",
              "    <path d=\"M18.56 5.44l.94 2.06.94-2.06 2.06-.94-2.06-.94-.94-2.06-.94 2.06-2.06.94zm-11 1L8.5 8.5l.94-2.06 2.06-.94-2.06-.94L8.5 2.5l-.94 2.06-2.06.94zm10 10l.94 2.06.94-2.06 2.06-.94-2.06-.94-.94-2.06-.94 2.06-2.06.94z\"/><path d=\"M17.41 7.96l-1.37-1.37c-.4-.4-.92-.59-1.43-.59-.52 0-1.04.2-1.43.59L10.3 9.45l-7.72 7.72c-.78.78-.78 2.05 0 2.83L4 21.41c.39.39.9.59 1.41.59.51 0 1.02-.2 1.41-.59l7.78-7.78 2.81-2.81c.8-.78.8-2.07 0-2.86zM5.41 20L4 18.59l7.72-7.72 1.47 1.35L5.41 20z\"/>\n",
              "  </svg>\n",
              "      </button>\n",
              "      \n",
              "  <style>\n",
              "    .colab-df-container {\n",
              "      display:flex;\n",
              "      flex-wrap:wrap;\n",
              "      gap: 12px;\n",
              "    }\n",
              "\n",
              "    .colab-df-convert {\n",
              "      background-color: #E8F0FE;\n",
              "      border: none;\n",
              "      border-radius: 50%;\n",
              "      cursor: pointer;\n",
              "      display: none;\n",
              "      fill: #1967D2;\n",
              "      height: 32px;\n",
              "      padding: 0 0 0 0;\n",
              "      width: 32px;\n",
              "    }\n",
              "\n",
              "    .colab-df-convert:hover {\n",
              "      background-color: #E2EBFA;\n",
              "      box-shadow: 0px 1px 2px rgba(60, 64, 67, 0.3), 0px 1px 3px 1px rgba(60, 64, 67, 0.15);\n",
              "      fill: #174EA6;\n",
              "    }\n",
              "\n",
              "    [theme=dark] .colab-df-convert {\n",
              "      background-color: #3B4455;\n",
              "      fill: #D2E3FC;\n",
              "    }\n",
              "\n",
              "    [theme=dark] .colab-df-convert:hover {\n",
              "      background-color: #434B5C;\n",
              "      box-shadow: 0px 1px 3px 1px rgba(0, 0, 0, 0.15);\n",
              "      filter: drop-shadow(0px 1px 2px rgba(0, 0, 0, 0.3));\n",
              "      fill: #FFFFFF;\n",
              "    }\n",
              "  </style>\n",
              "\n",
              "      <script>\n",
              "        const buttonEl =\n",
              "          document.querySelector('#df-55327dff-0166-4f35-996e-6e0795766c97 button.colab-df-convert');\n",
              "        buttonEl.style.display =\n",
              "          google.colab.kernel.accessAllowed ? 'block' : 'none';\n",
              "\n",
              "        async function convertToInteractive(key) {\n",
              "          const element = document.querySelector('#df-55327dff-0166-4f35-996e-6e0795766c97');\n",
              "          const dataTable =\n",
              "            await google.colab.kernel.invokeFunction('convertToInteractive',\n",
              "                                                     [key], {});\n",
              "          if (!dataTable) return;\n",
              "\n",
              "          const docLinkHtml = 'Like what you see? Visit the ' +\n",
              "            '<a target=\"_blank\" href=https://colab.research.google.com/notebooks/data_table.ipynb>data table notebook</a>'\n",
              "            + ' to learn more about interactive tables.';\n",
              "          element.innerHTML = '';\n",
              "          dataTable['output_type'] = 'display_data';\n",
              "          await google.colab.output.renderOutput(dataTable, element);\n",
              "          const docLink = document.createElement('div');\n",
              "          docLink.innerHTML = docLinkHtml;\n",
              "          element.appendChild(docLink);\n",
              "        }\n",
              "      </script>\n",
              "    </div>\n",
              "  </div>\n",
              "  "
            ]
          },
          "metadata": {},
          "execution_count": 20
        }
      ]
    },
    {
      "cell_type": "markdown",
      "source": [
        "Типы данных"
      ],
      "metadata": {
        "id": "11JEKbcwFTox"
      }
    },
    {
      "cell_type": "code",
      "source": [
        "data.dtypes"
      ],
      "metadata": {
        "colab": {
          "base_uri": "https://localhost:8080/"
        },
        "id": "LcLh3EeH_nv1",
        "outputId": "ba4c0ffc-ffdf-4945-ad97-d89eeb9e5d60"
      },
      "execution_count": 21,
      "outputs": [
        {
          "output_type": "execute_result",
          "data": {
            "text/plain": [
              "event_time        object\n",
              "order_id         float64\n",
              "product_id       float64\n",
              "category_id      float64\n",
              "category_code     object\n",
              "brand             object\n",
              "price            float64\n",
              "user_id          float64\n",
              "dtype: object"
            ]
          },
          "metadata": {},
          "execution_count": 21
        }
      ]
    },
    {
      "cell_type": "markdown",
      "source": [
        "### Количество уникальных данных по категориям"
      ],
      "metadata": {
        "id": "ySRQSCZpF944"
      }
    },
    {
      "cell_type": "code",
      "source": [
        "data.nunique()"
      ],
      "metadata": {
        "colab": {
          "base_uri": "https://localhost:8080/"
        },
        "id": "dC-bkeAeFzSv",
        "outputId": "e38e8be4-2257-46cf-8059-cfdfd450fd01"
      },
      "execution_count": 22,
      "outputs": [
        {
          "output_type": "execute_result",
          "data": {
            "text/plain": [
              "event_time       46573\n",
              "order_id         48570\n",
              "product_id        1609\n",
              "category_id        395\n",
              "category_code      274\n",
              "brand              790\n",
              "price              967\n",
              "user_id            802\n",
              "dtype: int64"
            ]
          },
          "metadata": {},
          "execution_count": 22
        }
      ]
    },
    {
      "cell_type": "code",
      "source": [
        "data.set_index('order_id', inplace=True)"
      ],
      "metadata": {
        "id": "9ubeRhqa_qHo"
      },
      "execution_count": 23,
      "outputs": []
    },
    {
      "cell_type": "markdown",
      "source": [
        "### Количество пустых ячеек"
      ],
      "metadata": {
        "id": "Msd2xLRUKHSG"
      }
    },
    {
      "cell_type": "code",
      "source": [
        "null_columns = data.columns[data.isnull().any()]\n",
        "data[null_columns].isnull().sum()"
      ],
      "metadata": {
        "colab": {
          "base_uri": "https://localhost:8080/"
        },
        "id": "OaG41-3o_ryJ",
        "outputId": "c37d8c4b-27ac-4360-a828-4244c10216af"
      },
      "execution_count": 24,
      "outputs": [
        {
          "output_type": "execute_result",
          "data": {
            "text/plain": [
              "category_id      22122\n",
              "category_code    25394\n",
              "brand            25235\n",
              "price            22122\n",
              "user_id          94622\n",
              "dtype: int64"
            ]
          },
          "metadata": {},
          "execution_count": 24
        }
      ]
    },
    {
      "cell_type": "code",
      "source": [
        "n_unique_products = data['product_id'].nunique()\n",
        "n_unique_users = data['user_id'].nunique()\n",
        "print('Количество уникальных пользователей: ' + str(n_unique_users) +'. Количество уникальных продуков: ' + str(n_unique_products))"
      ],
      "metadata": {
        "colab": {
          "base_uri": "https://localhost:8080/"
        },
        "id": "_iibqt7J_ssw",
        "outputId": "051d2cb4-b560-4f27-bb97-0d4c06c58afd"
      },
      "execution_count": 25,
      "outputs": [
        {
          "output_type": "stream",
          "name": "stdout",
          "text": [
            "Количество уникальных пользователей: 802. Количество уникальных продуков: 1609\n"
          ]
        }
      ]
    },
    {
      "cell_type": "code",
      "source": [
        "data['event_time']=pd.to_datetime(data['event_time'])"
      ],
      "metadata": {
        "id": "iaEQGGEU_t_T"
      },
      "execution_count": 26,
      "outputs": []
    },
    {
      "cell_type": "code",
      "source": [
        "data.dropna(subset=['category_code'],inplace=True)"
      ],
      "metadata": {
        "id": "ifny__Qo_vow"
      },
      "execution_count": 27,
      "outputs": []
    },
    {
      "cell_type": "code",
      "source": [
        "data['category'] = data['category_code'].str.rsplit('.', n=1, expand=True)[1]\n",
        "data.drop(columns=['category_code'], inplace=True)"
      ],
      "metadata": {
        "id": "kVipcb7k_xHs"
      },
      "execution_count": 28,
      "outputs": []
    },
    {
      "cell_type": "markdown",
      "source": [
        "### ТОП-10 брендов приносящих наибольшую прибыль"
      ],
      "metadata": {
        "id": "ZP3iOrMNGNtm"
      }
    },
    {
      "cell_type": "code",
      "source": [
        "best_performing_brands = data.groupby('brand')['price'].sum().reset_index().sort_values('price', ascending=False).head(10)\n",
        "print(best_performing_brands)"
      ],
      "metadata": {
        "colab": {
          "base_uri": "https://localhost:8080/"
        },
        "id": "v7jp8qlS_zLU",
        "outputId": "c8f4512e-42b6-4fcb-fa22-a171512bf953"
      },
      "execution_count": 29,
      "outputs": [
        {
          "output_type": "stream",
          "name": "stdout",
          "text": [
            "       brand       price\n",
            "621  samsung  2276035.98\n",
            "419    apple  1357056.80\n",
            "546       lg   741918.23\n",
            "514   huawei   564821.34\n",
            "545   lenovo   261984.56\n",
            "631     sony   238102.14\n",
            "588     oppo   233194.84\n",
            "424     asus   214966.23\n",
            "445    bosch   204926.39\n",
            "428      ava   180296.72\n"
          ]
        }
      ]
    },
    {
      "cell_type": "markdown",
      "source": [
        "### Самые продаваемые бренды"
      ],
      "metadata": {
        "id": "bFAx_fRfGeG1"
      }
    },
    {
      "cell_type": "code",
      "source": [
        "most_sold_brands = data.groupby('brand')['price'].agg('count').reset_index().sort_values('price', ascending=False).head(10)\n",
        "most_sold_brands.rename(columns={\"brand\": \"brand\", \"price\": \"times_sold\"}, inplace=True)\n",
        "print(most_sold_brands)"
      ],
      "metadata": {
        "colab": {
          "base_uri": "https://localhost:8080/"
        },
        "id": "sVhhcpMy_0Wk",
        "outputId": "98a2f25f-b72f-4664-9a1d-3ff7c946b767"
      },
      "execution_count": 30,
      "outputs": [
        {
          "output_type": "stream",
          "name": "stdout",
          "text": [
            "        brand  times_sold\n",
            "621   samsung       10245\n",
            "514    huawei        3257\n",
            "428       ava        2306\n",
            "419     apple        2180\n",
            "645     tefal        2094\n",
            "546        lg        1575\n",
            "588      oppo        1341\n",
            "596   philips        1224\n",
            "659       tvs        1221\n",
            "450  camelion         916\n"
          ]
        }
      ]
    },
    {
      "cell_type": "markdown",
      "source": [
        "### Самые продаваемые категории товаров"
      ],
      "metadata": {
        "id": "HAriKFKjG3Ah"
      }
    },
    {
      "cell_type": "code",
      "source": [
        "most_sold_categories = data.groupby('category')['price'].agg('count').reset_index().sort_values('price', ascending=False).head(10)\n",
        "most_sold_categories.rename(columns={\"category\": \"category\", \"price\": \"times_sold\"}, inplace=True)\n",
        "print(most_sold_categories)"
      ],
      "metadata": {
        "colab": {
          "base_uri": "https://localhost:8080/"
        },
        "id": "usW4iE-Q_4L4",
        "outputId": "db983dee-9f7d-4d77-bc7b-48c7e4300623"
      },
      "execution_count": 31,
      "outputs": [
        {
          "output_type": "stream",
          "name": "stdout",
          "text": [
            "          category  times_sold\n",
            "159     smartphone       12855\n",
            "173             tv        3093\n",
            "174         vacuum        2468\n",
            "128         kettle        2229\n",
            "164          table        2195\n",
            "150  refrigerators        1978\n",
            "141       notebook        1919\n",
            "178         washer        1890\n",
            "121      headphone        1787\n",
            "140          mouse        1362\n"
          ]
        }
      ]
    },
    {
      "cell_type": "markdown",
      "source": [
        "### В какое время было совершено наибольшее количество покупок"
      ],
      "metadata": {
        "id": "OLnGipnTHLPE"
      }
    },
    {
      "cell_type": "code",
      "source": [
        "best_time = data.groupby(data['event_time'].dt.strftime('%r'))['price'].sum().sort_values()[lambda x: x<= 900000].tail(10)\n",
        "print(best_time)"
      ],
      "metadata": {
        "colab": {
          "base_uri": "https://localhost:8080/"
        },
        "id": "JLegncZXAUKe",
        "outputId": "e9b607c8-80e5-416d-e748-dc2a4d4a410b"
      },
      "execution_count": 32,
      "outputs": [
        {
          "output_type": "stream",
          "name": "stdout",
          "text": [
            "event_time\n",
            "10:17:20 AM    4763.58\n",
            "11:08:42 AM    4772.67\n",
            "11:42:52 AM    4882.22\n",
            "12:37:34 PM    5156.13\n",
            "08:15:01 AM    5195.18\n",
            "11:20:06 AM    5536.70\n",
            "04:54:24 AM    5648.06\n",
            "12:44:47 PM    5691.89\n",
            "12:34:08 PM    6220.53\n",
            "10:52:12 AM    9428.20\n",
            "Name: price, dtype: float64\n"
          ]
        }
      ]
    },
    {
      "cell_type": "markdown",
      "source": [
        "### Самый прибыльный и наименее прибыльный месяцы"
      ],
      "metadata": {
        "id": "cZXaJcVPHT_b"
      }
    },
    {
      "cell_type": "code",
      "source": [
        "best_month = data.groupby(data['event_time'].dt.strftime('%B'))['price'].sum().sort_values()\n",
        "print(best_month)"
      ],
      "metadata": {
        "colab": {
          "base_uri": "https://localhost:8080/"
        },
        "id": "L32B1bZDAdPr",
        "outputId": "53664d7d-8ef4-402c-9d8c-68d90dc90052"
      },
      "execution_count": 33,
      "outputs": [
        {
          "output_type": "stream",
          "name": "stdout",
          "text": [
            "event_time\n",
            "July          1345.16\n",
            "January    8356902.91\n",
            "Name: price, dtype: float64\n"
          ]
        }
      ]
    },
    {
      "cell_type": "markdown",
      "source": [
        "### Время покупки пользователем и объем транзакций"
      ],
      "metadata": {
        "id": "KyfFa2e1HapK"
      }
    },
    {
      "cell_type": "code",
      "source": [
        "user_purchase_time_GMV = data.groupby(data['event_time'].dt.strftime('%H'))['price'].sum().reset_index()\n",
        "print(user_purchase_time_GMV)"
      ],
      "metadata": {
        "colab": {
          "base_uri": "https://localhost:8080/"
        },
        "id": "EIsfjkZoAlUG",
        "outputId": "17820274-80ab-406c-9352-f8836fec2bd8"
      },
      "execution_count": 34,
      "outputs": [
        {
          "output_type": "stream",
          "name": "stdout",
          "text": [
            "   event_time       price\n",
            "0          02        0.93\n",
            "1          03     2695.94\n",
            "2          04   151583.46\n",
            "3          05   433927.73\n",
            "4          06   627371.21\n",
            "5          07   784901.28\n",
            "6          08   836549.13\n",
            "7          09   895522.16\n",
            "8          10  1000775.51\n",
            "9          11   958729.87\n",
            "10         12   945246.50\n",
            "11         13   828884.79\n",
            "12         14   476848.87\n",
            "13         15   310167.35\n",
            "14         16    84171.79\n",
            "15         17    17853.42\n",
            "16         18     3018.13\n"
          ]
        }
      ]
    },
    {
      "cell_type": "markdown",
      "source": [
        "### Процент данных, отсутствующих в каждом столбце"
      ],
      "metadata": {
        "id": "LyekJGjjIk5U"
      }
    },
    {
      "cell_type": "code",
      "source": [
        "display(data.isna().sum()*100/data.shape[0])"
      ],
      "metadata": {
        "colab": {
          "base_uri": "https://localhost:8080/",
          "height": 160
        },
        "id": "PTWtNIY1IfBC",
        "outputId": "1075478e-9e61-42b1-8c98-7c519a654832"
      },
      "execution_count": 35,
      "outputs": [
        {
          "output_type": "display_data",
          "data": {
            "text/plain": [
              "event_time      0.000000\n",
              "product_id      0.000000\n",
              "category_id    29.651771\n",
              "brand          30.994826\n",
              "price          29.651771\n",
              "user_id        95.237648\n",
              "category        0.000000\n",
              "dtype: float64"
            ]
          },
          "metadata": {}
        }
      ]
    },
    {
      "cell_type": "markdown",
      "source": [
        "### В какие месяцы происходили события"
      ],
      "metadata": {
        "id": "ejONQUzVMoAU"
      }
    },
    {
      "cell_type": "code",
      "source": [
        "# На доработке\n",
        "def get_month_year(timestamp):\n",
        "    '''\n",
        "    Read timestamp and return year-month\n",
        "    '''\n",
        "    try:\n",
        "        # 2020-04-24 11:50:39 UTC\n",
        "        ft = datetime.strptime(timestamp, '%Y-%m-%d %H:%M:%S %Z')\n",
        "        return datetime.strftime(ft, \"%Y-%m\")\n",
        "    except:\n",
        "        print('Could not process timestamp')\n",
        "        return None\n",
        "\n",
        "data['year_month'] = data['event_time'].apply(get_month_year)\n",
        "data.year_month.unique()"
      ],
      "metadata": {
        "id": "aJb8X6ZlMrud"
      },
      "execution_count": 36,
      "outputs": []
    }
  ]
}